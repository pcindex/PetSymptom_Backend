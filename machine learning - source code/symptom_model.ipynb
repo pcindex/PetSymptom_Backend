{
  "nbformat": 4,
  "nbformat_minor": 0,
  "metadata": {
    "colab": {
      "provenance": []
    },
    "kernelspec": {
      "name": "python3",
      "display_name": "Python 3"
    },
    "language_info": {
      "name": "python"
    },
    "accelerator": "GPU",
    "gpuClass": "standard",
    "widgets": {
      "application/vnd.jupyter.widget-state+json": {
        "b54a9f04d7ba476c83ea46a26a4d1c0f": {
          "model_module": "@jupyter-widgets/controls",
          "model_name": "HBoxModel",
          "model_module_version": "1.5.0",
          "state": {
            "_dom_classes": [],
            "_model_module": "@jupyter-widgets/controls",
            "_model_module_version": "1.5.0",
            "_model_name": "HBoxModel",
            "_view_count": null,
            "_view_module": "@jupyter-widgets/controls",
            "_view_module_version": "1.5.0",
            "_view_name": "HBoxView",
            "box_style": "",
            "children": [
              "IPY_MODEL_0f8cc4d85d0d4c6ab5d48cbc6ab3b7af",
              "IPY_MODEL_9eca6b4692da486db235b57bb8dcb38f",
              "IPY_MODEL_44bbaa863c134a5d9c829509c5882b47"
            ],
            "layout": "IPY_MODEL_c7f3ef481e534a27b55e1c8b4832a052"
          }
        },
        "0f8cc4d85d0d4c6ab5d48cbc6ab3b7af": {
          "model_module": "@jupyter-widgets/controls",
          "model_name": "HTMLModel",
          "model_module_version": "1.5.0",
          "state": {
            "_dom_classes": [],
            "_model_module": "@jupyter-widgets/controls",
            "_model_module_version": "1.5.0",
            "_model_name": "HTMLModel",
            "_view_count": null,
            "_view_module": "@jupyter-widgets/controls",
            "_view_module_version": "1.5.0",
            "_view_name": "HTMLView",
            "description": "",
            "description_tooltip": null,
            "layout": "IPY_MODEL_21bdb83bf9544054bf128125fe8e15c2",
            "placeholder": "​",
            "style": "IPY_MODEL_82f34ef0bf634b51ad6085af715bf89e",
            "value": "Downloading: 100%"
          }
        },
        "9eca6b4692da486db235b57bb8dcb38f": {
          "model_module": "@jupyter-widgets/controls",
          "model_name": "FloatProgressModel",
          "model_module_version": "1.5.0",
          "state": {
            "_dom_classes": [],
            "_model_module": "@jupyter-widgets/controls",
            "_model_module_version": "1.5.0",
            "_model_name": "FloatProgressModel",
            "_view_count": null,
            "_view_module": "@jupyter-widgets/controls",
            "_view_module_version": "1.5.0",
            "_view_name": "ProgressView",
            "bar_style": "success",
            "description": "",
            "description_tooltip": null,
            "layout": "IPY_MODEL_30339b126d034598adfd5e77247bf307",
            "max": 231508,
            "min": 0,
            "orientation": "horizontal",
            "style": "IPY_MODEL_c3dc93819c29471bb484add47ecfcdd2",
            "value": 231508
          }
        },
        "44bbaa863c134a5d9c829509c5882b47": {
          "model_module": "@jupyter-widgets/controls",
          "model_name": "HTMLModel",
          "model_module_version": "1.5.0",
          "state": {
            "_dom_classes": [],
            "_model_module": "@jupyter-widgets/controls",
            "_model_module_version": "1.5.0",
            "_model_name": "HTMLModel",
            "_view_count": null,
            "_view_module": "@jupyter-widgets/controls",
            "_view_module_version": "1.5.0",
            "_view_name": "HTMLView",
            "description": "",
            "description_tooltip": null,
            "layout": "IPY_MODEL_63428fe991c24a439c9faa6f543a31f7",
            "placeholder": "​",
            "style": "IPY_MODEL_92b18ab6dbb9429f94487429564427f2",
            "value": " 232k/232k [00:00&lt;00:00, 843kB/s]"
          }
        },
        "c7f3ef481e534a27b55e1c8b4832a052": {
          "model_module": "@jupyter-widgets/base",
          "model_name": "LayoutModel",
          "model_module_version": "1.2.0",
          "state": {
            "_model_module": "@jupyter-widgets/base",
            "_model_module_version": "1.2.0",
            "_model_name": "LayoutModel",
            "_view_count": null,
            "_view_module": "@jupyter-widgets/base",
            "_view_module_version": "1.2.0",
            "_view_name": "LayoutView",
            "align_content": null,
            "align_items": null,
            "align_self": null,
            "border": null,
            "bottom": null,
            "display": null,
            "flex": null,
            "flex_flow": null,
            "grid_area": null,
            "grid_auto_columns": null,
            "grid_auto_flow": null,
            "grid_auto_rows": null,
            "grid_column": null,
            "grid_gap": null,
            "grid_row": null,
            "grid_template_areas": null,
            "grid_template_columns": null,
            "grid_template_rows": null,
            "height": null,
            "justify_content": null,
            "justify_items": null,
            "left": null,
            "margin": null,
            "max_height": null,
            "max_width": null,
            "min_height": null,
            "min_width": null,
            "object_fit": null,
            "object_position": null,
            "order": null,
            "overflow": null,
            "overflow_x": null,
            "overflow_y": null,
            "padding": null,
            "right": null,
            "top": null,
            "visibility": null,
            "width": null
          }
        },
        "21bdb83bf9544054bf128125fe8e15c2": {
          "model_module": "@jupyter-widgets/base",
          "model_name": "LayoutModel",
          "model_module_version": "1.2.0",
          "state": {
            "_model_module": "@jupyter-widgets/base",
            "_model_module_version": "1.2.0",
            "_model_name": "LayoutModel",
            "_view_count": null,
            "_view_module": "@jupyter-widgets/base",
            "_view_module_version": "1.2.0",
            "_view_name": "LayoutView",
            "align_content": null,
            "align_items": null,
            "align_self": null,
            "border": null,
            "bottom": null,
            "display": null,
            "flex": null,
            "flex_flow": null,
            "grid_area": null,
            "grid_auto_columns": null,
            "grid_auto_flow": null,
            "grid_auto_rows": null,
            "grid_column": null,
            "grid_gap": null,
            "grid_row": null,
            "grid_template_areas": null,
            "grid_template_columns": null,
            "grid_template_rows": null,
            "height": null,
            "justify_content": null,
            "justify_items": null,
            "left": null,
            "margin": null,
            "max_height": null,
            "max_width": null,
            "min_height": null,
            "min_width": null,
            "object_fit": null,
            "object_position": null,
            "order": null,
            "overflow": null,
            "overflow_x": null,
            "overflow_y": null,
            "padding": null,
            "right": null,
            "top": null,
            "visibility": null,
            "width": null
          }
        },
        "82f34ef0bf634b51ad6085af715bf89e": {
          "model_module": "@jupyter-widgets/controls",
          "model_name": "DescriptionStyleModel",
          "model_module_version": "1.5.0",
          "state": {
            "_model_module": "@jupyter-widgets/controls",
            "_model_module_version": "1.5.0",
            "_model_name": "DescriptionStyleModel",
            "_view_count": null,
            "_view_module": "@jupyter-widgets/base",
            "_view_module_version": "1.2.0",
            "_view_name": "StyleView",
            "description_width": ""
          }
        },
        "30339b126d034598adfd5e77247bf307": {
          "model_module": "@jupyter-widgets/base",
          "model_name": "LayoutModel",
          "model_module_version": "1.2.0",
          "state": {
            "_model_module": "@jupyter-widgets/base",
            "_model_module_version": "1.2.0",
            "_model_name": "LayoutModel",
            "_view_count": null,
            "_view_module": "@jupyter-widgets/base",
            "_view_module_version": "1.2.0",
            "_view_name": "LayoutView",
            "align_content": null,
            "align_items": null,
            "align_self": null,
            "border": null,
            "bottom": null,
            "display": null,
            "flex": null,
            "flex_flow": null,
            "grid_area": null,
            "grid_auto_columns": null,
            "grid_auto_flow": null,
            "grid_auto_rows": null,
            "grid_column": null,
            "grid_gap": null,
            "grid_row": null,
            "grid_template_areas": null,
            "grid_template_columns": null,
            "grid_template_rows": null,
            "height": null,
            "justify_content": null,
            "justify_items": null,
            "left": null,
            "margin": null,
            "max_height": null,
            "max_width": null,
            "min_height": null,
            "min_width": null,
            "object_fit": null,
            "object_position": null,
            "order": null,
            "overflow": null,
            "overflow_x": null,
            "overflow_y": null,
            "padding": null,
            "right": null,
            "top": null,
            "visibility": null,
            "width": null
          }
        },
        "c3dc93819c29471bb484add47ecfcdd2": {
          "model_module": "@jupyter-widgets/controls",
          "model_name": "ProgressStyleModel",
          "model_module_version": "1.5.0",
          "state": {
            "_model_module": "@jupyter-widgets/controls",
            "_model_module_version": "1.5.0",
            "_model_name": "ProgressStyleModel",
            "_view_count": null,
            "_view_module": "@jupyter-widgets/base",
            "_view_module_version": "1.2.0",
            "_view_name": "StyleView",
            "bar_color": null,
            "description_width": ""
          }
        },
        "63428fe991c24a439c9faa6f543a31f7": {
          "model_module": "@jupyter-widgets/base",
          "model_name": "LayoutModel",
          "model_module_version": "1.2.0",
          "state": {
            "_model_module": "@jupyter-widgets/base",
            "_model_module_version": "1.2.0",
            "_model_name": "LayoutModel",
            "_view_count": null,
            "_view_module": "@jupyter-widgets/base",
            "_view_module_version": "1.2.0",
            "_view_name": "LayoutView",
            "align_content": null,
            "align_items": null,
            "align_self": null,
            "border": null,
            "bottom": null,
            "display": null,
            "flex": null,
            "flex_flow": null,
            "grid_area": null,
            "grid_auto_columns": null,
            "grid_auto_flow": null,
            "grid_auto_rows": null,
            "grid_column": null,
            "grid_gap": null,
            "grid_row": null,
            "grid_template_areas": null,
            "grid_template_columns": null,
            "grid_template_rows": null,
            "height": null,
            "justify_content": null,
            "justify_items": null,
            "left": null,
            "margin": null,
            "max_height": null,
            "max_width": null,
            "min_height": null,
            "min_width": null,
            "object_fit": null,
            "object_position": null,
            "order": null,
            "overflow": null,
            "overflow_x": null,
            "overflow_y": null,
            "padding": null,
            "right": null,
            "top": null,
            "visibility": null,
            "width": null
          }
        },
        "92b18ab6dbb9429f94487429564427f2": {
          "model_module": "@jupyter-widgets/controls",
          "model_name": "DescriptionStyleModel",
          "model_module_version": "1.5.0",
          "state": {
            "_model_module": "@jupyter-widgets/controls",
            "_model_module_version": "1.5.0",
            "_model_name": "DescriptionStyleModel",
            "_view_count": null,
            "_view_module": "@jupyter-widgets/base",
            "_view_module_version": "1.2.0",
            "_view_name": "StyleView",
            "description_width": ""
          }
        },
        "3071ae4198304da8b809f2695d3fde47": {
          "model_module": "@jupyter-widgets/controls",
          "model_name": "HBoxModel",
          "model_module_version": "1.5.0",
          "state": {
            "_dom_classes": [],
            "_model_module": "@jupyter-widgets/controls",
            "_model_module_version": "1.5.0",
            "_model_name": "HBoxModel",
            "_view_count": null,
            "_view_module": "@jupyter-widgets/controls",
            "_view_module_version": "1.5.0",
            "_view_name": "HBoxView",
            "box_style": "",
            "children": [
              "IPY_MODEL_c99b48c8a8064d0cab54a780827894f2",
              "IPY_MODEL_912ae102fa994962aca6845a680b1680",
              "IPY_MODEL_86f303c44c224628a0557466295a8dd7"
            ],
            "layout": "IPY_MODEL_4cdaefdf7485402580a8506c74505ffd"
          }
        },
        "c99b48c8a8064d0cab54a780827894f2": {
          "model_module": "@jupyter-widgets/controls",
          "model_name": "HTMLModel",
          "model_module_version": "1.5.0",
          "state": {
            "_dom_classes": [],
            "_model_module": "@jupyter-widgets/controls",
            "_model_module_version": "1.5.0",
            "_model_name": "HTMLModel",
            "_view_count": null,
            "_view_module": "@jupyter-widgets/controls",
            "_view_module_version": "1.5.0",
            "_view_name": "HTMLView",
            "description": "",
            "description_tooltip": null,
            "layout": "IPY_MODEL_bbb6ad8b0a5e4f4bb046e935e76f7e03",
            "placeholder": "​",
            "style": "IPY_MODEL_d911fe9bc7fd4e0492d3cc64717c5551",
            "value": "Downloading: 100%"
          }
        },
        "912ae102fa994962aca6845a680b1680": {
          "model_module": "@jupyter-widgets/controls",
          "model_name": "FloatProgressModel",
          "model_module_version": "1.5.0",
          "state": {
            "_dom_classes": [],
            "_model_module": "@jupyter-widgets/controls",
            "_model_module_version": "1.5.0",
            "_model_name": "FloatProgressModel",
            "_view_count": null,
            "_view_module": "@jupyter-widgets/controls",
            "_view_module_version": "1.5.0",
            "_view_name": "ProgressView",
            "bar_style": "success",
            "description": "",
            "description_tooltip": null,
            "layout": "IPY_MODEL_43f684a6155a4ebe9adceae4fe073f3a",
            "max": 28,
            "min": 0,
            "orientation": "horizontal",
            "style": "IPY_MODEL_abd342475f034ae38fc240ec065627f7",
            "value": 28
          }
        },
        "86f303c44c224628a0557466295a8dd7": {
          "model_module": "@jupyter-widgets/controls",
          "model_name": "HTMLModel",
          "model_module_version": "1.5.0",
          "state": {
            "_dom_classes": [],
            "_model_module": "@jupyter-widgets/controls",
            "_model_module_version": "1.5.0",
            "_model_name": "HTMLModel",
            "_view_count": null,
            "_view_module": "@jupyter-widgets/controls",
            "_view_module_version": "1.5.0",
            "_view_name": "HTMLView",
            "description": "",
            "description_tooltip": null,
            "layout": "IPY_MODEL_01f87af56a0b40458478ac7d017aa73c",
            "placeholder": "​",
            "style": "IPY_MODEL_6e8e39b1447f4e69bf04888625c060f7",
            "value": " 28.0/28.0 [00:00&lt;00:00, 352B/s]"
          }
        },
        "4cdaefdf7485402580a8506c74505ffd": {
          "model_module": "@jupyter-widgets/base",
          "model_name": "LayoutModel",
          "model_module_version": "1.2.0",
          "state": {
            "_model_module": "@jupyter-widgets/base",
            "_model_module_version": "1.2.0",
            "_model_name": "LayoutModel",
            "_view_count": null,
            "_view_module": "@jupyter-widgets/base",
            "_view_module_version": "1.2.0",
            "_view_name": "LayoutView",
            "align_content": null,
            "align_items": null,
            "align_self": null,
            "border": null,
            "bottom": null,
            "display": null,
            "flex": null,
            "flex_flow": null,
            "grid_area": null,
            "grid_auto_columns": null,
            "grid_auto_flow": null,
            "grid_auto_rows": null,
            "grid_column": null,
            "grid_gap": null,
            "grid_row": null,
            "grid_template_areas": null,
            "grid_template_columns": null,
            "grid_template_rows": null,
            "height": null,
            "justify_content": null,
            "justify_items": null,
            "left": null,
            "margin": null,
            "max_height": null,
            "max_width": null,
            "min_height": null,
            "min_width": null,
            "object_fit": null,
            "object_position": null,
            "order": null,
            "overflow": null,
            "overflow_x": null,
            "overflow_y": null,
            "padding": null,
            "right": null,
            "top": null,
            "visibility": null,
            "width": null
          }
        },
        "bbb6ad8b0a5e4f4bb046e935e76f7e03": {
          "model_module": "@jupyter-widgets/base",
          "model_name": "LayoutModel",
          "model_module_version": "1.2.0",
          "state": {
            "_model_module": "@jupyter-widgets/base",
            "_model_module_version": "1.2.0",
            "_model_name": "LayoutModel",
            "_view_count": null,
            "_view_module": "@jupyter-widgets/base",
            "_view_module_version": "1.2.0",
            "_view_name": "LayoutView",
            "align_content": null,
            "align_items": null,
            "align_self": null,
            "border": null,
            "bottom": null,
            "display": null,
            "flex": null,
            "flex_flow": null,
            "grid_area": null,
            "grid_auto_columns": null,
            "grid_auto_flow": null,
            "grid_auto_rows": null,
            "grid_column": null,
            "grid_gap": null,
            "grid_row": null,
            "grid_template_areas": null,
            "grid_template_columns": null,
            "grid_template_rows": null,
            "height": null,
            "justify_content": null,
            "justify_items": null,
            "left": null,
            "margin": null,
            "max_height": null,
            "max_width": null,
            "min_height": null,
            "min_width": null,
            "object_fit": null,
            "object_position": null,
            "order": null,
            "overflow": null,
            "overflow_x": null,
            "overflow_y": null,
            "padding": null,
            "right": null,
            "top": null,
            "visibility": null,
            "width": null
          }
        },
        "d911fe9bc7fd4e0492d3cc64717c5551": {
          "model_module": "@jupyter-widgets/controls",
          "model_name": "DescriptionStyleModel",
          "model_module_version": "1.5.0",
          "state": {
            "_model_module": "@jupyter-widgets/controls",
            "_model_module_version": "1.5.0",
            "_model_name": "DescriptionStyleModel",
            "_view_count": null,
            "_view_module": "@jupyter-widgets/base",
            "_view_module_version": "1.2.0",
            "_view_name": "StyleView",
            "description_width": ""
          }
        },
        "43f684a6155a4ebe9adceae4fe073f3a": {
          "model_module": "@jupyter-widgets/base",
          "model_name": "LayoutModel",
          "model_module_version": "1.2.0",
          "state": {
            "_model_module": "@jupyter-widgets/base",
            "_model_module_version": "1.2.0",
            "_model_name": "LayoutModel",
            "_view_count": null,
            "_view_module": "@jupyter-widgets/base",
            "_view_module_version": "1.2.0",
            "_view_name": "LayoutView",
            "align_content": null,
            "align_items": null,
            "align_self": null,
            "border": null,
            "bottom": null,
            "display": null,
            "flex": null,
            "flex_flow": null,
            "grid_area": null,
            "grid_auto_columns": null,
            "grid_auto_flow": null,
            "grid_auto_rows": null,
            "grid_column": null,
            "grid_gap": null,
            "grid_row": null,
            "grid_template_areas": null,
            "grid_template_columns": null,
            "grid_template_rows": null,
            "height": null,
            "justify_content": null,
            "justify_items": null,
            "left": null,
            "margin": null,
            "max_height": null,
            "max_width": null,
            "min_height": null,
            "min_width": null,
            "object_fit": null,
            "object_position": null,
            "order": null,
            "overflow": null,
            "overflow_x": null,
            "overflow_y": null,
            "padding": null,
            "right": null,
            "top": null,
            "visibility": null,
            "width": null
          }
        },
        "abd342475f034ae38fc240ec065627f7": {
          "model_module": "@jupyter-widgets/controls",
          "model_name": "ProgressStyleModel",
          "model_module_version": "1.5.0",
          "state": {
            "_model_module": "@jupyter-widgets/controls",
            "_model_module_version": "1.5.0",
            "_model_name": "ProgressStyleModel",
            "_view_count": null,
            "_view_module": "@jupyter-widgets/base",
            "_view_module_version": "1.2.0",
            "_view_name": "StyleView",
            "bar_color": null,
            "description_width": ""
          }
        },
        "01f87af56a0b40458478ac7d017aa73c": {
          "model_module": "@jupyter-widgets/base",
          "model_name": "LayoutModel",
          "model_module_version": "1.2.0",
          "state": {
            "_model_module": "@jupyter-widgets/base",
            "_model_module_version": "1.2.0",
            "_model_name": "LayoutModel",
            "_view_count": null,
            "_view_module": "@jupyter-widgets/base",
            "_view_module_version": "1.2.0",
            "_view_name": "LayoutView",
            "align_content": null,
            "align_items": null,
            "align_self": null,
            "border": null,
            "bottom": null,
            "display": null,
            "flex": null,
            "flex_flow": null,
            "grid_area": null,
            "grid_auto_columns": null,
            "grid_auto_flow": null,
            "grid_auto_rows": null,
            "grid_column": null,
            "grid_gap": null,
            "grid_row": null,
            "grid_template_areas": null,
            "grid_template_columns": null,
            "grid_template_rows": null,
            "height": null,
            "justify_content": null,
            "justify_items": null,
            "left": null,
            "margin": null,
            "max_height": null,
            "max_width": null,
            "min_height": null,
            "min_width": null,
            "object_fit": null,
            "object_position": null,
            "order": null,
            "overflow": null,
            "overflow_x": null,
            "overflow_y": null,
            "padding": null,
            "right": null,
            "top": null,
            "visibility": null,
            "width": null
          }
        },
        "6e8e39b1447f4e69bf04888625c060f7": {
          "model_module": "@jupyter-widgets/controls",
          "model_name": "DescriptionStyleModel",
          "model_module_version": "1.5.0",
          "state": {
            "_model_module": "@jupyter-widgets/controls",
            "_model_module_version": "1.5.0",
            "_model_name": "DescriptionStyleModel",
            "_view_count": null,
            "_view_module": "@jupyter-widgets/base",
            "_view_module_version": "1.2.0",
            "_view_name": "StyleView",
            "description_width": ""
          }
        },
        "934b95e337884b4b8330284bf37b7be1": {
          "model_module": "@jupyter-widgets/controls",
          "model_name": "HBoxModel",
          "model_module_version": "1.5.0",
          "state": {
            "_dom_classes": [],
            "_model_module": "@jupyter-widgets/controls",
            "_model_module_version": "1.5.0",
            "_model_name": "HBoxModel",
            "_view_count": null,
            "_view_module": "@jupyter-widgets/controls",
            "_view_module_version": "1.5.0",
            "_view_name": "HBoxView",
            "box_style": "",
            "children": [
              "IPY_MODEL_8cb9f2399a0c48c0ab9f414326c6bb25",
              "IPY_MODEL_43beb8c9dde34ae084fef0935aaea2c8",
              "IPY_MODEL_fedd6c7c5f8443e58a095bc4589f8e11"
            ],
            "layout": "IPY_MODEL_e704cc2b680644daa48be54c1c6e998a"
          }
        },
        "8cb9f2399a0c48c0ab9f414326c6bb25": {
          "model_module": "@jupyter-widgets/controls",
          "model_name": "HTMLModel",
          "model_module_version": "1.5.0",
          "state": {
            "_dom_classes": [],
            "_model_module": "@jupyter-widgets/controls",
            "_model_module_version": "1.5.0",
            "_model_name": "HTMLModel",
            "_view_count": null,
            "_view_module": "@jupyter-widgets/controls",
            "_view_module_version": "1.5.0",
            "_view_name": "HTMLView",
            "description": "",
            "description_tooltip": null,
            "layout": "IPY_MODEL_f877649a353e477ebed33925aac0f370",
            "placeholder": "​",
            "style": "IPY_MODEL_a22f2728a96d41a19bfa1a4bd54fac6d",
            "value": "Downloading: 100%"
          }
        },
        "43beb8c9dde34ae084fef0935aaea2c8": {
          "model_module": "@jupyter-widgets/controls",
          "model_name": "FloatProgressModel",
          "model_module_version": "1.5.0",
          "state": {
            "_dom_classes": [],
            "_model_module": "@jupyter-widgets/controls",
            "_model_module_version": "1.5.0",
            "_model_name": "FloatProgressModel",
            "_view_count": null,
            "_view_module": "@jupyter-widgets/controls",
            "_view_module_version": "1.5.0",
            "_view_name": "ProgressView",
            "bar_style": "success",
            "description": "",
            "description_tooltip": null,
            "layout": "IPY_MODEL_2fae8273a0574ab388275c83966410b3",
            "max": 570,
            "min": 0,
            "orientation": "horizontal",
            "style": "IPY_MODEL_4086c18eaf5e4340b3caebe335ba9c2e",
            "value": 570
          }
        },
        "fedd6c7c5f8443e58a095bc4589f8e11": {
          "model_module": "@jupyter-widgets/controls",
          "model_name": "HTMLModel",
          "model_module_version": "1.5.0",
          "state": {
            "_dom_classes": [],
            "_model_module": "@jupyter-widgets/controls",
            "_model_module_version": "1.5.0",
            "_model_name": "HTMLModel",
            "_view_count": null,
            "_view_module": "@jupyter-widgets/controls",
            "_view_module_version": "1.5.0",
            "_view_name": "HTMLView",
            "description": "",
            "description_tooltip": null,
            "layout": "IPY_MODEL_a8c3b9b4563349be8a110a8888f961d1",
            "placeholder": "​",
            "style": "IPY_MODEL_1ca30438398145bf8cd844ce54be1f96",
            "value": " 570/570 [00:00&lt;00:00, 6.32kB/s]"
          }
        },
        "e704cc2b680644daa48be54c1c6e998a": {
          "model_module": "@jupyter-widgets/base",
          "model_name": "LayoutModel",
          "model_module_version": "1.2.0",
          "state": {
            "_model_module": "@jupyter-widgets/base",
            "_model_module_version": "1.2.0",
            "_model_name": "LayoutModel",
            "_view_count": null,
            "_view_module": "@jupyter-widgets/base",
            "_view_module_version": "1.2.0",
            "_view_name": "LayoutView",
            "align_content": null,
            "align_items": null,
            "align_self": null,
            "border": null,
            "bottom": null,
            "display": null,
            "flex": null,
            "flex_flow": null,
            "grid_area": null,
            "grid_auto_columns": null,
            "grid_auto_flow": null,
            "grid_auto_rows": null,
            "grid_column": null,
            "grid_gap": null,
            "grid_row": null,
            "grid_template_areas": null,
            "grid_template_columns": null,
            "grid_template_rows": null,
            "height": null,
            "justify_content": null,
            "justify_items": null,
            "left": null,
            "margin": null,
            "max_height": null,
            "max_width": null,
            "min_height": null,
            "min_width": null,
            "object_fit": null,
            "object_position": null,
            "order": null,
            "overflow": null,
            "overflow_x": null,
            "overflow_y": null,
            "padding": null,
            "right": null,
            "top": null,
            "visibility": null,
            "width": null
          }
        },
        "f877649a353e477ebed33925aac0f370": {
          "model_module": "@jupyter-widgets/base",
          "model_name": "LayoutModel",
          "model_module_version": "1.2.0",
          "state": {
            "_model_module": "@jupyter-widgets/base",
            "_model_module_version": "1.2.0",
            "_model_name": "LayoutModel",
            "_view_count": null,
            "_view_module": "@jupyter-widgets/base",
            "_view_module_version": "1.2.0",
            "_view_name": "LayoutView",
            "align_content": null,
            "align_items": null,
            "align_self": null,
            "border": null,
            "bottom": null,
            "display": null,
            "flex": null,
            "flex_flow": null,
            "grid_area": null,
            "grid_auto_columns": null,
            "grid_auto_flow": null,
            "grid_auto_rows": null,
            "grid_column": null,
            "grid_gap": null,
            "grid_row": null,
            "grid_template_areas": null,
            "grid_template_columns": null,
            "grid_template_rows": null,
            "height": null,
            "justify_content": null,
            "justify_items": null,
            "left": null,
            "margin": null,
            "max_height": null,
            "max_width": null,
            "min_height": null,
            "min_width": null,
            "object_fit": null,
            "object_position": null,
            "order": null,
            "overflow": null,
            "overflow_x": null,
            "overflow_y": null,
            "padding": null,
            "right": null,
            "top": null,
            "visibility": null,
            "width": null
          }
        },
        "a22f2728a96d41a19bfa1a4bd54fac6d": {
          "model_module": "@jupyter-widgets/controls",
          "model_name": "DescriptionStyleModel",
          "model_module_version": "1.5.0",
          "state": {
            "_model_module": "@jupyter-widgets/controls",
            "_model_module_version": "1.5.0",
            "_model_name": "DescriptionStyleModel",
            "_view_count": null,
            "_view_module": "@jupyter-widgets/base",
            "_view_module_version": "1.2.0",
            "_view_name": "StyleView",
            "description_width": ""
          }
        },
        "2fae8273a0574ab388275c83966410b3": {
          "model_module": "@jupyter-widgets/base",
          "model_name": "LayoutModel",
          "model_module_version": "1.2.0",
          "state": {
            "_model_module": "@jupyter-widgets/base",
            "_model_module_version": "1.2.0",
            "_model_name": "LayoutModel",
            "_view_count": null,
            "_view_module": "@jupyter-widgets/base",
            "_view_module_version": "1.2.0",
            "_view_name": "LayoutView",
            "align_content": null,
            "align_items": null,
            "align_self": null,
            "border": null,
            "bottom": null,
            "display": null,
            "flex": null,
            "flex_flow": null,
            "grid_area": null,
            "grid_auto_columns": null,
            "grid_auto_flow": null,
            "grid_auto_rows": null,
            "grid_column": null,
            "grid_gap": null,
            "grid_row": null,
            "grid_template_areas": null,
            "grid_template_columns": null,
            "grid_template_rows": null,
            "height": null,
            "justify_content": null,
            "justify_items": null,
            "left": null,
            "margin": null,
            "max_height": null,
            "max_width": null,
            "min_height": null,
            "min_width": null,
            "object_fit": null,
            "object_position": null,
            "order": null,
            "overflow": null,
            "overflow_x": null,
            "overflow_y": null,
            "padding": null,
            "right": null,
            "top": null,
            "visibility": null,
            "width": null
          }
        },
        "4086c18eaf5e4340b3caebe335ba9c2e": {
          "model_module": "@jupyter-widgets/controls",
          "model_name": "ProgressStyleModel",
          "model_module_version": "1.5.0",
          "state": {
            "_model_module": "@jupyter-widgets/controls",
            "_model_module_version": "1.5.0",
            "_model_name": "ProgressStyleModel",
            "_view_count": null,
            "_view_module": "@jupyter-widgets/base",
            "_view_module_version": "1.2.0",
            "_view_name": "StyleView",
            "bar_color": null,
            "description_width": ""
          }
        },
        "a8c3b9b4563349be8a110a8888f961d1": {
          "model_module": "@jupyter-widgets/base",
          "model_name": "LayoutModel",
          "model_module_version": "1.2.0",
          "state": {
            "_model_module": "@jupyter-widgets/base",
            "_model_module_version": "1.2.0",
            "_model_name": "LayoutModel",
            "_view_count": null,
            "_view_module": "@jupyter-widgets/base",
            "_view_module_version": "1.2.0",
            "_view_name": "LayoutView",
            "align_content": null,
            "align_items": null,
            "align_self": null,
            "border": null,
            "bottom": null,
            "display": null,
            "flex": null,
            "flex_flow": null,
            "grid_area": null,
            "grid_auto_columns": null,
            "grid_auto_flow": null,
            "grid_auto_rows": null,
            "grid_column": null,
            "grid_gap": null,
            "grid_row": null,
            "grid_template_areas": null,
            "grid_template_columns": null,
            "grid_template_rows": null,
            "height": null,
            "justify_content": null,
            "justify_items": null,
            "left": null,
            "margin": null,
            "max_height": null,
            "max_width": null,
            "min_height": null,
            "min_width": null,
            "object_fit": null,
            "object_position": null,
            "order": null,
            "overflow": null,
            "overflow_x": null,
            "overflow_y": null,
            "padding": null,
            "right": null,
            "top": null,
            "visibility": null,
            "width": null
          }
        },
        "1ca30438398145bf8cd844ce54be1f96": {
          "model_module": "@jupyter-widgets/controls",
          "model_name": "DescriptionStyleModel",
          "model_module_version": "1.5.0",
          "state": {
            "_model_module": "@jupyter-widgets/controls",
            "_model_module_version": "1.5.0",
            "_model_name": "DescriptionStyleModel",
            "_view_count": null,
            "_view_module": "@jupyter-widgets/base",
            "_view_module_version": "1.2.0",
            "_view_name": "StyleView",
            "description_width": ""
          }
        },
        "e31afac1c0484b9d967ed2139fabb470": {
          "model_module": "@jupyter-widgets/controls",
          "model_name": "HBoxModel",
          "model_module_version": "1.5.0",
          "state": {
            "_dom_classes": [],
            "_model_module": "@jupyter-widgets/controls",
            "_model_module_version": "1.5.0",
            "_model_name": "HBoxModel",
            "_view_count": null,
            "_view_module": "@jupyter-widgets/controls",
            "_view_module_version": "1.5.0",
            "_view_name": "HBoxView",
            "box_style": "",
            "children": [
              "IPY_MODEL_10465a37aab6420a8cfc8710c9cc3c0e",
              "IPY_MODEL_48f52d13e2484127922897468ea51193",
              "IPY_MODEL_3294267e9c4a49209955983d8cf82c64"
            ],
            "layout": "IPY_MODEL_aed4637940924776ac9712432c9f2934"
          }
        },
        "10465a37aab6420a8cfc8710c9cc3c0e": {
          "model_module": "@jupyter-widgets/controls",
          "model_name": "HTMLModel",
          "model_module_version": "1.5.0",
          "state": {
            "_dom_classes": [],
            "_model_module": "@jupyter-widgets/controls",
            "_model_module_version": "1.5.0",
            "_model_name": "HTMLModel",
            "_view_count": null,
            "_view_module": "@jupyter-widgets/controls",
            "_view_module_version": "1.5.0",
            "_view_name": "HTMLView",
            "description": "",
            "description_tooltip": null,
            "layout": "IPY_MODEL_08940718f67742cb8b20ce53df0b6301",
            "placeholder": "​",
            "style": "IPY_MODEL_436ba6a4b8174deab35182c10e6ed6eb",
            "value": "Downloading: 100%"
          }
        },
        "48f52d13e2484127922897468ea51193": {
          "model_module": "@jupyter-widgets/controls",
          "model_name": "FloatProgressModel",
          "model_module_version": "1.5.0",
          "state": {
            "_dom_classes": [],
            "_model_module": "@jupyter-widgets/controls",
            "_model_module_version": "1.5.0",
            "_model_name": "FloatProgressModel",
            "_view_count": null,
            "_view_module": "@jupyter-widgets/controls",
            "_view_module_version": "1.5.0",
            "_view_name": "ProgressView",
            "bar_style": "success",
            "description": "",
            "description_tooltip": null,
            "layout": "IPY_MODEL_ae90f1724c084d6492a418624128b945",
            "max": 440473133,
            "min": 0,
            "orientation": "horizontal",
            "style": "IPY_MODEL_287e999514e8451d9972a675be67e097",
            "value": 440473133
          }
        },
        "3294267e9c4a49209955983d8cf82c64": {
          "model_module": "@jupyter-widgets/controls",
          "model_name": "HTMLModel",
          "model_module_version": "1.5.0",
          "state": {
            "_dom_classes": [],
            "_model_module": "@jupyter-widgets/controls",
            "_model_module_version": "1.5.0",
            "_model_name": "HTMLModel",
            "_view_count": null,
            "_view_module": "@jupyter-widgets/controls",
            "_view_module_version": "1.5.0",
            "_view_name": "HTMLView",
            "description": "",
            "description_tooltip": null,
            "layout": "IPY_MODEL_80c310760be84f36bd1f564867f587bd",
            "placeholder": "​",
            "style": "IPY_MODEL_648d4486d5174f0283d9e18cff65c2b2",
            "value": " 440M/440M [00:05&lt;00:00, 75.6MB/s]"
          }
        },
        "aed4637940924776ac9712432c9f2934": {
          "model_module": "@jupyter-widgets/base",
          "model_name": "LayoutModel",
          "model_module_version": "1.2.0",
          "state": {
            "_model_module": "@jupyter-widgets/base",
            "_model_module_version": "1.2.0",
            "_model_name": "LayoutModel",
            "_view_count": null,
            "_view_module": "@jupyter-widgets/base",
            "_view_module_version": "1.2.0",
            "_view_name": "LayoutView",
            "align_content": null,
            "align_items": null,
            "align_self": null,
            "border": null,
            "bottom": null,
            "display": null,
            "flex": null,
            "flex_flow": null,
            "grid_area": null,
            "grid_auto_columns": null,
            "grid_auto_flow": null,
            "grid_auto_rows": null,
            "grid_column": null,
            "grid_gap": null,
            "grid_row": null,
            "grid_template_areas": null,
            "grid_template_columns": null,
            "grid_template_rows": null,
            "height": null,
            "justify_content": null,
            "justify_items": null,
            "left": null,
            "margin": null,
            "max_height": null,
            "max_width": null,
            "min_height": null,
            "min_width": null,
            "object_fit": null,
            "object_position": null,
            "order": null,
            "overflow": null,
            "overflow_x": null,
            "overflow_y": null,
            "padding": null,
            "right": null,
            "top": null,
            "visibility": null,
            "width": null
          }
        },
        "08940718f67742cb8b20ce53df0b6301": {
          "model_module": "@jupyter-widgets/base",
          "model_name": "LayoutModel",
          "model_module_version": "1.2.0",
          "state": {
            "_model_module": "@jupyter-widgets/base",
            "_model_module_version": "1.2.0",
            "_model_name": "LayoutModel",
            "_view_count": null,
            "_view_module": "@jupyter-widgets/base",
            "_view_module_version": "1.2.0",
            "_view_name": "LayoutView",
            "align_content": null,
            "align_items": null,
            "align_self": null,
            "border": null,
            "bottom": null,
            "display": null,
            "flex": null,
            "flex_flow": null,
            "grid_area": null,
            "grid_auto_columns": null,
            "grid_auto_flow": null,
            "grid_auto_rows": null,
            "grid_column": null,
            "grid_gap": null,
            "grid_row": null,
            "grid_template_areas": null,
            "grid_template_columns": null,
            "grid_template_rows": null,
            "height": null,
            "justify_content": null,
            "justify_items": null,
            "left": null,
            "margin": null,
            "max_height": null,
            "max_width": null,
            "min_height": null,
            "min_width": null,
            "object_fit": null,
            "object_position": null,
            "order": null,
            "overflow": null,
            "overflow_x": null,
            "overflow_y": null,
            "padding": null,
            "right": null,
            "top": null,
            "visibility": null,
            "width": null
          }
        },
        "436ba6a4b8174deab35182c10e6ed6eb": {
          "model_module": "@jupyter-widgets/controls",
          "model_name": "DescriptionStyleModel",
          "model_module_version": "1.5.0",
          "state": {
            "_model_module": "@jupyter-widgets/controls",
            "_model_module_version": "1.5.0",
            "_model_name": "DescriptionStyleModel",
            "_view_count": null,
            "_view_module": "@jupyter-widgets/base",
            "_view_module_version": "1.2.0",
            "_view_name": "StyleView",
            "description_width": ""
          }
        },
        "ae90f1724c084d6492a418624128b945": {
          "model_module": "@jupyter-widgets/base",
          "model_name": "LayoutModel",
          "model_module_version": "1.2.0",
          "state": {
            "_model_module": "@jupyter-widgets/base",
            "_model_module_version": "1.2.0",
            "_model_name": "LayoutModel",
            "_view_count": null,
            "_view_module": "@jupyter-widgets/base",
            "_view_module_version": "1.2.0",
            "_view_name": "LayoutView",
            "align_content": null,
            "align_items": null,
            "align_self": null,
            "border": null,
            "bottom": null,
            "display": null,
            "flex": null,
            "flex_flow": null,
            "grid_area": null,
            "grid_auto_columns": null,
            "grid_auto_flow": null,
            "grid_auto_rows": null,
            "grid_column": null,
            "grid_gap": null,
            "grid_row": null,
            "grid_template_areas": null,
            "grid_template_columns": null,
            "grid_template_rows": null,
            "height": null,
            "justify_content": null,
            "justify_items": null,
            "left": null,
            "margin": null,
            "max_height": null,
            "max_width": null,
            "min_height": null,
            "min_width": null,
            "object_fit": null,
            "object_position": null,
            "order": null,
            "overflow": null,
            "overflow_x": null,
            "overflow_y": null,
            "padding": null,
            "right": null,
            "top": null,
            "visibility": null,
            "width": null
          }
        },
        "287e999514e8451d9972a675be67e097": {
          "model_module": "@jupyter-widgets/controls",
          "model_name": "ProgressStyleModel",
          "model_module_version": "1.5.0",
          "state": {
            "_model_module": "@jupyter-widgets/controls",
            "_model_module_version": "1.5.0",
            "_model_name": "ProgressStyleModel",
            "_view_count": null,
            "_view_module": "@jupyter-widgets/base",
            "_view_module_version": "1.2.0",
            "_view_name": "StyleView",
            "bar_color": null,
            "description_width": ""
          }
        },
        "80c310760be84f36bd1f564867f587bd": {
          "model_module": "@jupyter-widgets/base",
          "model_name": "LayoutModel",
          "model_module_version": "1.2.0",
          "state": {
            "_model_module": "@jupyter-widgets/base",
            "_model_module_version": "1.2.0",
            "_model_name": "LayoutModel",
            "_view_count": null,
            "_view_module": "@jupyter-widgets/base",
            "_view_module_version": "1.2.0",
            "_view_name": "LayoutView",
            "align_content": null,
            "align_items": null,
            "align_self": null,
            "border": null,
            "bottom": null,
            "display": null,
            "flex": null,
            "flex_flow": null,
            "grid_area": null,
            "grid_auto_columns": null,
            "grid_auto_flow": null,
            "grid_auto_rows": null,
            "grid_column": null,
            "grid_gap": null,
            "grid_row": null,
            "grid_template_areas": null,
            "grid_template_columns": null,
            "grid_template_rows": null,
            "height": null,
            "justify_content": null,
            "justify_items": null,
            "left": null,
            "margin": null,
            "max_height": null,
            "max_width": null,
            "min_height": null,
            "min_width": null,
            "object_fit": null,
            "object_position": null,
            "order": null,
            "overflow": null,
            "overflow_x": null,
            "overflow_y": null,
            "padding": null,
            "right": null,
            "top": null,
            "visibility": null,
            "width": null
          }
        },
        "648d4486d5174f0283d9e18cff65c2b2": {
          "model_module": "@jupyter-widgets/controls",
          "model_name": "DescriptionStyleModel",
          "model_module_version": "1.5.0",
          "state": {
            "_model_module": "@jupyter-widgets/controls",
            "_model_module_version": "1.5.0",
            "_model_name": "DescriptionStyleModel",
            "_view_count": null,
            "_view_module": "@jupyter-widgets/base",
            "_view_module_version": "1.2.0",
            "_view_name": "StyleView",
            "description_width": ""
          }
        }
      }
    }
  },
  "cells": [
    {
      "cell_type": "code",
      "execution_count": 1,
      "metadata": {
        "colab": {
          "base_uri": "https://localhost:8080/",
          "height": 0
        },
        "id": "_Zdge4NA-KJd",
        "outputId": "c5fb0e1e-c5ec-4cac-9b07-c4b27d610ddc"
      },
      "outputs": [
        {
          "output_type": "stream",
          "name": "stdout",
          "text": [
            "Found GPU at: /device:GPU:0\n"
          ]
        }
      ],
      "source": [
        "# original code from https://github.com/ensembles4612/medical_intent_detector_using_BERT\n",
        "\n",
        "import tensorflow as tf\n",
        "\n",
        "# Get the GPU device name.\n",
        "device_name = tf.test.gpu_device_name()\n",
        "\n",
        "# The device name should look like the following:\n",
        "if device_name == '/device:GPU:0':\n",
        "    print('Found GPU at: {}'.format(device_name))\n",
        "else:\n",
        "    raise SystemError('GPU device not found')"
      ]
    },
    {
      "cell_type": "code",
      "source": [
        "# In order for torch to use the GPU, we need to identify and specify the GPU as the device. Later, in our training loop, we will load data onto the device\n",
        "\n",
        "import torch\n",
        "\n",
        "# If there's a GPU available...\n",
        "if torch.cuda.is_available():    \n",
        "\n",
        "    # Tell PyTorch to use the GPU.    \n",
        "    device = torch.device(\"cuda\")\n",
        "\n",
        "    print('There are %d GPU(s) available.' % torch.cuda.device_count())\n",
        "\n",
        "    print('We will use the GPU:', torch.cuda.get_device_name(0))\n",
        "\n",
        "# If not...\n",
        "else:\n",
        "    print('No GPU available, using the CPU instead.')\n",
        "    device = torch.device(\"cpu\")"
      ],
      "metadata": {
        "id": "6VtT2qJI-bVI",
        "colab": {
          "base_uri": "https://localhost:8080/",
          "height": 0
        },
        "outputId": "98bd95c0-a58d-4860-a8e3-7b1972942ed7"
      },
      "execution_count": 2,
      "outputs": [
        {
          "output_type": "stream",
          "name": "stdout",
          "text": [
            "There are 1 GPU(s) available.\n",
            "We will use the GPU: Tesla T4\n"
          ]
        }
      ]
    },
    {
      "cell_type": "code",
      "source": [
        "!pip install transformers\n",
        "import numpy as np\n",
        "import pandas as pd\n",
        "import seaborn as sns\n",
        "import matplotlib.pyplot as plt"
      ],
      "metadata": {
        "colab": {
          "base_uri": "https://localhost:8080/",
          "height": 0
        },
        "id": "IRexblV8AQfb",
        "outputId": "e0554857-87a7-473d-8160-f25aa08c171b"
      },
      "execution_count": 3,
      "outputs": [
        {
          "output_type": "stream",
          "name": "stdout",
          "text": [
            "Looking in indexes: https://pypi.org/simple, https://us-python.pkg.dev/colab-wheels/public/simple/\n",
            "Collecting transformers\n",
            "  Downloading transformers-4.25.1-py3-none-any.whl (5.8 MB)\n",
            "\u001b[K     |████████████████████████████████| 5.8 MB 24.0 MB/s \n",
            "\u001b[?25hRequirement already satisfied: packaging>=20.0 in /usr/local/lib/python3.8/dist-packages (from transformers) (21.3)\n",
            "Requirement already satisfied: numpy>=1.17 in /usr/local/lib/python3.8/dist-packages (from transformers) (1.21.6)\n",
            "Collecting huggingface-hub<1.0,>=0.10.0\n",
            "  Downloading huggingface_hub-0.11.1-py3-none-any.whl (182 kB)\n",
            "\u001b[K     |████████████████████████████████| 182 kB 76.7 MB/s \n",
            "\u001b[?25hCollecting tokenizers!=0.11.3,<0.14,>=0.11.1\n",
            "  Downloading tokenizers-0.13.2-cp38-cp38-manylinux_2_17_x86_64.manylinux2014_x86_64.whl (7.6 MB)\n",
            "\u001b[K     |████████████████████████████████| 7.6 MB 65.9 MB/s \n",
            "\u001b[?25hRequirement already satisfied: filelock in /usr/local/lib/python3.8/dist-packages (from transformers) (3.8.0)\n",
            "Requirement already satisfied: pyyaml>=5.1 in /usr/local/lib/python3.8/dist-packages (from transformers) (6.0)\n",
            "Requirement already satisfied: tqdm>=4.27 in /usr/local/lib/python3.8/dist-packages (from transformers) (4.64.1)\n",
            "Requirement already satisfied: regex!=2019.12.17 in /usr/local/lib/python3.8/dist-packages (from transformers) (2022.6.2)\n",
            "Requirement already satisfied: requests in /usr/local/lib/python3.8/dist-packages (from transformers) (2.23.0)\n",
            "Requirement already satisfied: typing-extensions>=3.7.4.3 in /usr/local/lib/python3.8/dist-packages (from huggingface-hub<1.0,>=0.10.0->transformers) (4.4.0)\n",
            "Requirement already satisfied: pyparsing!=3.0.5,>=2.0.2 in /usr/local/lib/python3.8/dist-packages (from packaging>=20.0->transformers) (3.0.9)\n",
            "Requirement already satisfied: chardet<4,>=3.0.2 in /usr/local/lib/python3.8/dist-packages (from requests->transformers) (3.0.4)\n",
            "Requirement already satisfied: certifi>=2017.4.17 in /usr/local/lib/python3.8/dist-packages (from requests->transformers) (2022.9.24)\n",
            "Requirement already satisfied: idna<3,>=2.5 in /usr/local/lib/python3.8/dist-packages (from requests->transformers) (2.10)\n",
            "Requirement already satisfied: urllib3!=1.25.0,!=1.25.1,<1.26,>=1.21.1 in /usr/local/lib/python3.8/dist-packages (from requests->transformers) (1.24.3)\n",
            "Installing collected packages: tokenizers, huggingface-hub, transformers\n",
            "Successfully installed huggingface-hub-0.11.1 tokenizers-0.13.2 transformers-4.25.1\n"
          ]
        }
      ]
    },
    {
      "cell_type": "code",
      "source": [
        "from google.colab import drive\n",
        "drive.mount('/content/gdrive') "
      ],
      "metadata": {
        "colab": {
          "base_uri": "https://localhost:8080/",
          "height": 0
        },
        "id": "jMDchpctAVBR",
        "outputId": "a924a772-62ee-4017-9e96-11a2c06b56b6"
      },
      "execution_count": 4,
      "outputs": [
        {
          "output_type": "stream",
          "name": "stdout",
          "text": [
            "Mounted at /content/gdrive\n"
          ]
        }
      ]
    },
    {
      "cell_type": "code",
      "source": [
        "data = pd.read_csv('gdrive/My Drive/bert/dog symptom feed - v2.csv')\n",
        "data1 = data[['phrase','prompt']]\n",
        "data1.sample(5)"
      ],
      "metadata": {
        "colab": {
          "base_uri": "https://localhost:8080/",
          "height": 206
        },
        "id": "SmOBQm2BAwy3",
        "outputId": "843d6621-9095-4940-9088-6b40bfa78ba8"
      },
      "execution_count": 5,
      "outputs": [
        {
          "output_type": "execute_result",
          "data": {
            "text/plain": [
              "                                                 phrase            prompt\n",
              "5187  When My dog eat too much sugar my body gets we...   Body feels weak\n",
              "3338  My son nicked his neck with an old razor and t...    Infected wound\n",
              "3401  My head hurts and My dog lose the sensation in...         Head ache\n",
              "2527  My hair is falling out after My dog take a sho...  Hair falling out\n",
              "605   My dog have a cut on my foot that became infec...    Infected wound"
            ],
            "text/html": [
              "\n",
              "  <div id=\"df-1a647dbb-5912-4313-b276-d4a92a95d46d\">\n",
              "    <div class=\"colab-df-container\">\n",
              "      <div>\n",
              "<style scoped>\n",
              "    .dataframe tbody tr th:only-of-type {\n",
              "        vertical-align: middle;\n",
              "    }\n",
              "\n",
              "    .dataframe tbody tr th {\n",
              "        vertical-align: top;\n",
              "    }\n",
              "\n",
              "    .dataframe thead th {\n",
              "        text-align: right;\n",
              "    }\n",
              "</style>\n",
              "<table border=\"1\" class=\"dataframe\">\n",
              "  <thead>\n",
              "    <tr style=\"text-align: right;\">\n",
              "      <th></th>\n",
              "      <th>phrase</th>\n",
              "      <th>prompt</th>\n",
              "    </tr>\n",
              "  </thead>\n",
              "  <tbody>\n",
              "    <tr>\n",
              "      <th>5187</th>\n",
              "      <td>When My dog eat too much sugar my body gets we...</td>\n",
              "      <td>Body feels weak</td>\n",
              "    </tr>\n",
              "    <tr>\n",
              "      <th>3338</th>\n",
              "      <td>My son nicked his neck with an old razor and t...</td>\n",
              "      <td>Infected wound</td>\n",
              "    </tr>\n",
              "    <tr>\n",
              "      <th>3401</th>\n",
              "      <td>My head hurts and My dog lose the sensation in...</td>\n",
              "      <td>Head ache</td>\n",
              "    </tr>\n",
              "    <tr>\n",
              "      <th>2527</th>\n",
              "      <td>My hair is falling out after My dog take a sho...</td>\n",
              "      <td>Hair falling out</td>\n",
              "    </tr>\n",
              "    <tr>\n",
              "      <th>605</th>\n",
              "      <td>My dog have a cut on my foot that became infec...</td>\n",
              "      <td>Infected wound</td>\n",
              "    </tr>\n",
              "  </tbody>\n",
              "</table>\n",
              "</div>\n",
              "      <button class=\"colab-df-convert\" onclick=\"convertToInteractive('df-1a647dbb-5912-4313-b276-d4a92a95d46d')\"\n",
              "              title=\"Convert this dataframe to an interactive table.\"\n",
              "              style=\"display:none;\">\n",
              "        \n",
              "  <svg xmlns=\"http://www.w3.org/2000/svg\" height=\"24px\"viewBox=\"0 0 24 24\"\n",
              "       width=\"24px\">\n",
              "    <path d=\"M0 0h24v24H0V0z\" fill=\"none\"/>\n",
              "    <path d=\"M18.56 5.44l.94 2.06.94-2.06 2.06-.94-2.06-.94-.94-2.06-.94 2.06-2.06.94zm-11 1L8.5 8.5l.94-2.06 2.06-.94-2.06-.94L8.5 2.5l-.94 2.06-2.06.94zm10 10l.94 2.06.94-2.06 2.06-.94-2.06-.94-.94-2.06-.94 2.06-2.06.94z\"/><path d=\"M17.41 7.96l-1.37-1.37c-.4-.4-.92-.59-1.43-.59-.52 0-1.04.2-1.43.59L10.3 9.45l-7.72 7.72c-.78.78-.78 2.05 0 2.83L4 21.41c.39.39.9.59 1.41.59.51 0 1.02-.2 1.41-.59l7.78-7.78 2.81-2.81c.8-.78.8-2.07 0-2.86zM5.41 20L4 18.59l7.72-7.72 1.47 1.35L5.41 20z\"/>\n",
              "  </svg>\n",
              "      </button>\n",
              "      \n",
              "  <style>\n",
              "    .colab-df-container {\n",
              "      display:flex;\n",
              "      flex-wrap:wrap;\n",
              "      gap: 12px;\n",
              "    }\n",
              "\n",
              "    .colab-df-convert {\n",
              "      background-color: #E8F0FE;\n",
              "      border: none;\n",
              "      border-radius: 50%;\n",
              "      cursor: pointer;\n",
              "      display: none;\n",
              "      fill: #1967D2;\n",
              "      height: 32px;\n",
              "      padding: 0 0 0 0;\n",
              "      width: 32px;\n",
              "    }\n",
              "\n",
              "    .colab-df-convert:hover {\n",
              "      background-color: #E2EBFA;\n",
              "      box-shadow: 0px 1px 2px rgba(60, 64, 67, 0.3), 0px 1px 3px 1px rgba(60, 64, 67, 0.15);\n",
              "      fill: #174EA6;\n",
              "    }\n",
              "\n",
              "    [theme=dark] .colab-df-convert {\n",
              "      background-color: #3B4455;\n",
              "      fill: #D2E3FC;\n",
              "    }\n",
              "\n",
              "    [theme=dark] .colab-df-convert:hover {\n",
              "      background-color: #434B5C;\n",
              "      box-shadow: 0px 1px 3px 1px rgba(0, 0, 0, 0.15);\n",
              "      filter: drop-shadow(0px 1px 2px rgba(0, 0, 0, 0.3));\n",
              "      fill: #FFFFFF;\n",
              "    }\n",
              "  </style>\n",
              "\n",
              "      <script>\n",
              "        const buttonEl =\n",
              "          document.querySelector('#df-1a647dbb-5912-4313-b276-d4a92a95d46d button.colab-df-convert');\n",
              "        buttonEl.style.display =\n",
              "          google.colab.kernel.accessAllowed ? 'block' : 'none';\n",
              "\n",
              "        async function convertToInteractive(key) {\n",
              "          const element = document.querySelector('#df-1a647dbb-5912-4313-b276-d4a92a95d46d');\n",
              "          const dataTable =\n",
              "            await google.colab.kernel.invokeFunction('convertToInteractive',\n",
              "                                                     [key], {});\n",
              "          if (!dataTable) return;\n",
              "\n",
              "          const docLinkHtml = 'Like what you see? Visit the ' +\n",
              "            '<a target=\"_blank\" href=https://colab.research.google.com/notebooks/data_table.ipynb>data table notebook</a>'\n",
              "            + ' to learn more about interactive tables.';\n",
              "          element.innerHTML = '';\n",
              "          dataTable['output_type'] = 'display_data';\n",
              "          await google.colab.output.renderOutput(dataTable, element);\n",
              "          const docLink = document.createElement('div');\n",
              "          docLink.innerHTML = docLinkHtml;\n",
              "          element.appendChild(docLink);\n",
              "        }\n",
              "      </script>\n",
              "    </div>\n",
              "  </div>\n",
              "  "
            ]
          },
          "metadata": {},
          "execution_count": 5
        }
      ]
    },
    {
      "cell_type": "code",
      "source": [
        "df=data1.copy()\n",
        "df.isna().sum()"
      ],
      "metadata": {
        "colab": {
          "base_uri": "https://localhost:8080/",
          "height": 0
        },
        "id": "dPFVduI9A1-t",
        "outputId": "3aa7df51-7cc4-4827-90cc-3e987fa5fcae"
      },
      "execution_count": 6,
      "outputs": [
        {
          "output_type": "execute_result",
          "data": {
            "text/plain": [
              "phrase    0\n",
              "prompt    0\n",
              "dtype: int64"
            ]
          },
          "metadata": {},
          "execution_count": 6
        }
      ]
    },
    {
      "cell_type": "code",
      "source": [
        "df['prompt'].value_counts()"
      ],
      "metadata": {
        "colab": {
          "base_uri": "https://localhost:8080/",
          "height": 0
        },
        "id": "u-2vX86dA4EG",
        "outputId": "fed0a59b-772c-49a6-82f9-a2b9ed32bb0b"
      },
      "execution_count": 7,
      "outputs": [
        {
          "output_type": "execute_result",
          "data": {
            "text/plain": [
              "Acne                  328\n",
              "Shoulder pain         320\n",
              "Joint pain            318\n",
              "Infected wound        306\n",
              "Knee pain             305\n",
              "Cough                 293\n",
              "Feeling dizzy         283\n",
              "Muscle pain           282\n",
              "Heart hurts           273\n",
              "Ear ache              270\n",
              "Hair falling out      264\n",
              "Head ache             263\n",
              "Feeling cold          263\n",
              "Skin issue            262\n",
              "Stomach ache          261\n",
              "Back pain             259\n",
              "Neck pain             251\n",
              "Internal pain         248\n",
              "Blurry vision         246\n",
              "Body feels weak       241\n",
              "Hard to breath        233\n",
              "Emotional pain        231\n",
              "Injury from sports    230\n",
              "Foot ache             223\n",
              "Open wound            208\n",
              "Name: prompt, dtype: int64"
            ]
          },
          "metadata": {},
          "execution_count": 7
        }
      ]
    },
    {
      "cell_type": "code",
      "source": [
        "print('Total number of intents: %d'%(len(df['prompt'].value_counts().index)))"
      ],
      "metadata": {
        "colab": {
          "base_uri": "https://localhost:8080/",
          "height": 0
        },
        "id": "41wF_4zTA8r8",
        "outputId": "89e91abd-4aa1-4aa8-ce1e-a188c577138e"
      },
      "execution_count": 8,
      "outputs": [
        {
          "output_type": "stream",
          "name": "stdout",
          "text": [
            "Total number of intents: 25\n"
          ]
        }
      ]
    },
    {
      "cell_type": "code",
      "source": [
        "from sklearn.model_selection import train_test_split\n",
        "\n",
        "X, sentence_test, y, intent_test = train_test_split(df.phrase, df.prompt, stratify = df.prompt,test_size=0.2, random_state=4612)\n",
        "sentence_train, sentence_val, intent_train, intent_val = train_test_split(X, y, stratify = y,test_size=0.125, random_state=4612)"
      ],
      "metadata": {
        "id": "yK50xmzKA-rt"
      },
      "execution_count": 9,
      "outputs": []
    },
    {
      "cell_type": "code",
      "source": [
        "print(f\"#examples in training set:{ sentence_train.shape[0]}\\n#examples in validation set:{ sentence_val.shape[0]}\\n#examples in test set:{ sentence_test.shape[0]}\")"
      ],
      "metadata": {
        "colab": {
          "base_uri": "https://localhost:8080/",
          "height": 0
        },
        "id": "rAPtQjr6BCGi",
        "outputId": "cb783f4b-80b0-4ca4-f1c5-f980d2a61075"
      },
      "execution_count": 10,
      "outputs": [
        {
          "output_type": "stream",
          "name": "stdout",
          "text": [
            "#examples in training set:4662\n",
            "#examples in validation set:666\n",
            "#examples in test set:1333\n"
          ]
        }
      ]
    },
    {
      "cell_type": "code",
      "source": [
        "# Defining some key variables that will be used later on in the training\n",
        "TRAIN_BATCH_SIZE = 32\n",
        "VALID_BATCH_SIZE = 64\n",
        "EPSILON = 1e-08\n",
        "EPOCHS = 4\n",
        "LEARNING_RATE = 2e-5\n",
        "SEED = 1215\n",
        "from transformers import BertTokenizer\n",
        "tokenizer = BertTokenizer.from_pretrained('bert-base-uncased', do_lower_case=True)"
      ],
      "metadata": {
        "id": "yiA0ofo_BFAk",
        "colab": {
          "base_uri": "https://localhost:8080/",
          "height": 113,
          "referenced_widgets": [
            "b54a9f04d7ba476c83ea46a26a4d1c0f",
            "0f8cc4d85d0d4c6ab5d48cbc6ab3b7af",
            "9eca6b4692da486db235b57bb8dcb38f",
            "44bbaa863c134a5d9c829509c5882b47",
            "c7f3ef481e534a27b55e1c8b4832a052",
            "21bdb83bf9544054bf128125fe8e15c2",
            "82f34ef0bf634b51ad6085af715bf89e",
            "30339b126d034598adfd5e77247bf307",
            "c3dc93819c29471bb484add47ecfcdd2",
            "63428fe991c24a439c9faa6f543a31f7",
            "92b18ab6dbb9429f94487429564427f2",
            "3071ae4198304da8b809f2695d3fde47",
            "c99b48c8a8064d0cab54a780827894f2",
            "912ae102fa994962aca6845a680b1680",
            "86f303c44c224628a0557466295a8dd7",
            "4cdaefdf7485402580a8506c74505ffd",
            "bbb6ad8b0a5e4f4bb046e935e76f7e03",
            "d911fe9bc7fd4e0492d3cc64717c5551",
            "43f684a6155a4ebe9adceae4fe073f3a",
            "abd342475f034ae38fc240ec065627f7",
            "01f87af56a0b40458478ac7d017aa73c",
            "6e8e39b1447f4e69bf04888625c060f7",
            "934b95e337884b4b8330284bf37b7be1",
            "8cb9f2399a0c48c0ab9f414326c6bb25",
            "43beb8c9dde34ae084fef0935aaea2c8",
            "fedd6c7c5f8443e58a095bc4589f8e11",
            "e704cc2b680644daa48be54c1c6e998a",
            "f877649a353e477ebed33925aac0f370",
            "a22f2728a96d41a19bfa1a4bd54fac6d",
            "2fae8273a0574ab388275c83966410b3",
            "4086c18eaf5e4340b3caebe335ba9c2e",
            "a8c3b9b4563349be8a110a8888f961d1",
            "1ca30438398145bf8cd844ce54be1f96"
          ]
        },
        "outputId": "b4f7799b-9cc5-4ccb-c7ce-297de91e1446"
      },
      "execution_count": 11,
      "outputs": [
        {
          "output_type": "display_data",
          "data": {
            "text/plain": [
              "Downloading:   0%|          | 0.00/232k [00:00<?, ?B/s]"
            ],
            "application/vnd.jupyter.widget-view+json": {
              "version_major": 2,
              "version_minor": 0,
              "model_id": "b54a9f04d7ba476c83ea46a26a4d1c0f"
            }
          },
          "metadata": {}
        },
        {
          "output_type": "display_data",
          "data": {
            "text/plain": [
              "Downloading:   0%|          | 0.00/28.0 [00:00<?, ?B/s]"
            ],
            "application/vnd.jupyter.widget-view+json": {
              "version_major": 2,
              "version_minor": 0,
              "model_id": "3071ae4198304da8b809f2695d3fde47"
            }
          },
          "metadata": {}
        },
        {
          "output_type": "display_data",
          "data": {
            "text/plain": [
              "Downloading:   0%|          | 0.00/570 [00:00<?, ?B/s]"
            ],
            "application/vnd.jupyter.widget-view+json": {
              "version_major": 2,
              "version_minor": 0,
              "model_id": "934b95e337884b4b8330284bf37b7be1"
            }
          },
          "metadata": {}
        }
      ]
    },
    {
      "cell_type": "code",
      "source": [
        "max_len = 0\n",
        "input = []\n",
        "length=[]\n",
        "# For every sentence...\n",
        "for sent in sentence_train:\n",
        "\n",
        "    # Tokenize the text and add special tokens--`[CLS]` and `[SEP]` tokens.\n",
        "    input_ids = tokenizer.encode(sent, add_special_tokens=True)\n",
        "    input.append(input_ids)\n",
        "    length.append(len(input_ids))\n",
        "    # Update the maximum sentence length.\n",
        "    max_len = max(max_len, len(input_ids))\n",
        "    mean_len = sum(length)/len(length)\n",
        "#39 tokens is the maximum number of tokens in a sentence (transcription). Also, a sentence has 14 tokens on average.\n",
        "print('Max sentence length:%d \\nMean sentence length:%d' % (max_len,mean_len))"
      ],
      "metadata": {
        "colab": {
          "base_uri": "https://localhost:8080/",
          "height": 0
        },
        "id": "Po45SybyBKBy",
        "outputId": "ecb8e83e-0422-4fab-da2d-8a0cad84f165"
      },
      "execution_count": 12,
      "outputs": [
        {
          "output_type": "stream",
          "name": "stdout",
          "text": [
            "Max sentence length:40 \n",
            "Mean sentence length:15\n"
          ]
        }
      ]
    },
    {
      "cell_type": "code",
      "source": [
        "# create a function to tokenize sentences.  \n",
        "def tokenize(sentence):\n",
        "  batch = tokenizer(list(sentence),             \n",
        "                  #is_pretokenized = False,\n",
        "                  #Pad or truncate all sentences to the same length. Create the attention masks which explicitly differentiate real tokens from [PAD] tokens.\n",
        "                  padding = True, \n",
        "                  truncation = True,\n",
        "                  return_tensors=\"pt\")\n",
        "  return batch"
      ],
      "metadata": {
        "id": "Pu4gnz6RBPqo"
      },
      "execution_count": 13,
      "outputs": []
    },
    {
      "cell_type": "code",
      "source": [
        "tok_train = tokenize(sentence_train)\n",
        "tok_val = tokenize(sentence_val)\n",
        "tok_test = tokenize(sentence_test)"
      ],
      "metadata": {
        "id": "kEGdX3AIBRxh"
      },
      "execution_count": 14,
      "outputs": []
    },
    {
      "cell_type": "code",
      "source": [
        "from sklearn.preprocessing import LabelEncoder\n",
        "# encode \"intent\" to 25 number labels\n",
        "LE = LabelEncoder()\n",
        "label_train = torch.tensor((LE.fit_transform(intent_train)))\n",
        "label_val = torch.tensor((LE.fit_transform(intent_val)))\n",
        "label_test = torch.tensor((LE.fit_transform(intent_test)))"
      ],
      "metadata": {
        "id": "DEJdr6A3aQtG"
      },
      "execution_count": 15,
      "outputs": []
    },
    {
      "cell_type": "code",
      "source": [
        "from torch.utils.data import TensorDataset\n",
        "\n",
        "train_dataset = TensorDataset(tok_train['input_ids'], tok_train['attention_mask'],label_train)\n",
        "validation_dataset = TensorDataset(tok_val['input_ids'], tok_val['attention_mask'],label_val)\n",
        "test_dataset = TensorDataset(tok_test['input_ids'], tok_test['attention_mask'],label_test)"
      ],
      "metadata": {
        "id": "_G92qegUaahu"
      },
      "execution_count": 16,
      "outputs": []
    },
    {
      "cell_type": "code",
      "source": [
        "from torch.utils.data import DataLoader, RandomSampler, SequentialSampler\n",
        "\n",
        "# Create the DataLoaders for our training and validation sets.\n",
        "# We'll take training samples in random order. \n",
        "train_dataloader = DataLoader(\n",
        "            train_dataset,  # The training samples.\n",
        "            sampler = RandomSampler(train_dataset), # Select batches randomly\n",
        "            batch_size = TRAIN_BATCH_SIZE # Trains with this batch size.\n",
        "        )\n",
        "\n",
        "# For validation/test the order doesn't matter, so we'll just read them sequentially.\n",
        "validation_dataloader = DataLoader(\n",
        "            validation_dataset, # The validation samples.\n",
        "            sampler = SequentialSampler(validation_dataset), # Pull out batches sequentially.\n",
        "            batch_size = VALID_BATCH_SIZE # Evaluate with this batch size.\n",
        "        )\n",
        "\n",
        "test_dataloader = DataLoader(\n",
        "            validation_dataset, \n",
        "            sampler = SequentialSampler(validation_dataset), \n",
        "            batch_size = VALID_BATCH_SIZE \n",
        "        )"
      ],
      "metadata": {
        "id": "jD5kQJTZackY"
      },
      "execution_count": 17,
      "outputs": []
    },
    {
      "cell_type": "code",
      "source": [
        "from transformers import BertForSequenceClassification, AdamW, BertConfig\n",
        "\n",
        "## use pretained base(relatively small) BERT mdoel for sequence classification \n",
        "#CUDA_LAUNCH_BLOCKING=1\n",
        "model = BertForSequenceClassification.from_pretrained('bert-base-uncased', num_labels = 25)\n",
        "model.cuda() # make pytorch run this model on GPU.\n",
        "\n",
        "## use AdamW optimizer\n",
        "optimizer = AdamW(model.parameters(), \n",
        "                  lr = LEARNING_RATE, \n",
        "                  eps = EPSILON) #very small number to prevent any division by zero\n",
        "\n",
        "from transformers import get_linear_schedule_with_warmup\n",
        "\n",
        "# Total number of training steps is [number of batches] x [number of epochs]. \n",
        "total_steps = len(train_dataloader) * EPOCHS\n",
        "\n",
        "## Create the learning rate scheduler.\n",
        "scheduler = get_linear_schedule_with_warmup(optimizer, \n",
        "                                            num_warmup_steps = 0, # Default value in run_glue.py\n",
        "                                            num_training_steps = total_steps)"
      ],
      "metadata": {
        "colab": {
          "base_uri": "https://localhost:8080/",
          "height": 191,
          "referenced_widgets": [
            "e31afac1c0484b9d967ed2139fabb470",
            "10465a37aab6420a8cfc8710c9cc3c0e",
            "48f52d13e2484127922897468ea51193",
            "3294267e9c4a49209955983d8cf82c64",
            "aed4637940924776ac9712432c9f2934",
            "08940718f67742cb8b20ce53df0b6301",
            "436ba6a4b8174deab35182c10e6ed6eb",
            "ae90f1724c084d6492a418624128b945",
            "287e999514e8451d9972a675be67e097",
            "80c310760be84f36bd1f564867f587bd",
            "648d4486d5174f0283d9e18cff65c2b2"
          ]
        },
        "id": "Mp1e3XsUacij",
        "outputId": "bc9aed1a-b358-4628-e98a-7e0f562eff9f"
      },
      "execution_count": 18,
      "outputs": [
        {
          "output_type": "display_data",
          "data": {
            "text/plain": [
              "Downloading:   0%|          | 0.00/440M [00:00<?, ?B/s]"
            ],
            "application/vnd.jupyter.widget-view+json": {
              "version_major": 2,
              "version_minor": 0,
              "model_id": "e31afac1c0484b9d967ed2139fabb470"
            }
          },
          "metadata": {}
        },
        {
          "output_type": "stream",
          "name": "stderr",
          "text": [
            "Some weights of the model checkpoint at bert-base-uncased were not used when initializing BertForSequenceClassification: ['cls.predictions.decoder.weight', 'cls.predictions.transform.LayerNorm.weight', 'cls.predictions.transform.dense.weight', 'cls.seq_relationship.weight', 'cls.seq_relationship.bias', 'cls.predictions.transform.LayerNorm.bias', 'cls.predictions.transform.dense.bias', 'cls.predictions.bias']\n",
            "- This IS expected if you are initializing BertForSequenceClassification from the checkpoint of a model trained on another task or with another architecture (e.g. initializing a BertForSequenceClassification model from a BertForPreTraining model).\n",
            "- This IS NOT expected if you are initializing BertForSequenceClassification from the checkpoint of a model that you expect to be exactly identical (initializing a BertForSequenceClassification model from a BertForSequenceClassification model).\n",
            "Some weights of BertForSequenceClassification were not initialized from the model checkpoint at bert-base-uncased and are newly initialized: ['classifier.weight', 'classifier.bias']\n",
            "You should probably TRAIN this model on a down-stream task to be able to use it for predictions and inference.\n",
            "/usr/local/lib/python3.8/dist-packages/transformers/optimization.py:306: FutureWarning: This implementation of AdamW is deprecated and will be removed in a future version. Use the PyTorch implementation torch.optim.AdamW instead, or set `no_deprecation_warning=True` to disable this warning\n",
            "  warnings.warn(\n"
          ]
        }
      ]
    },
    {
      "cell_type": "code",
      "source": [
        "# Function to calcuate the accuracy of the model\n",
        "\n",
        "def calcuate_accu(big_idx, targets):\n",
        "    n_correct = (big_idx==targets).sum().item()\n",
        "    return n_correct"
      ],
      "metadata": {
        "id": "ZDH6nUrsafh1"
      },
      "execution_count": 19,
      "outputs": []
    },
    {
      "cell_type": "code",
      "source": [
        "import time\n",
        "import datetime\n",
        "\n",
        "def format_time(elapsed):\n",
        "    #Takes a time in seconds and returns a string hh:mm:ss\n",
        "    # Round to the nearest second.\n",
        "    elapsed_rounded = int(round((elapsed)))   \n",
        "    # Format as hh:mm:ss\n",
        "    return str(datetime.timedelta(seconds=elapsed_rounded))"
      ],
      "metadata": {
        "id": "dIdDkEo6asgf"
      },
      "execution_count": 20,
      "outputs": []
    },
    {
      "cell_type": "code",
      "source": [
        "from torch.utils.tensorboard import SummaryWriter\n",
        "\n",
        "# default `log_dir` is \"runs\" - we'll be more specific here\n",
        "writer = SummaryWriter('runs/Tensorboard')"
      ],
      "metadata": {
        "id": "2HfrkL6_auhY"
      },
      "execution_count": 21,
      "outputs": []
    },
    {
      "cell_type": "code",
      "source": [
        "# Start the training process:\n",
        "import random\n",
        "import torch\n",
        "\n",
        "random.seed(SEED)\n",
        "np.random.seed(SEED)\n",
        "torch.manual_seed(SEED)\n",
        "torch.cuda.manual_seed_all(SEED)\n",
        "def train(epochs):\n",
        "  total_t0 = time.time() # Measure the total training time for the whole run.\n",
        "  tr_loss = 0\n",
        "  n_correct = 0\n",
        "  nb_tr_steps = 0\n",
        "  nb_tr_examples = 0\n",
        "  \n",
        "  # For each epoch...\n",
        "  for epoch in range(0, epochs):\n",
        "      print('======== Epoch {:} / {:} ========'.format(epoch + 1, epochs))\n",
        "      print('Training...')\n",
        "\n",
        "      t0 = time.time()     # Measure how long the training epoch takes.\n",
        "      total_tr_loss = 0\n",
        "      total_n_correct = 0\n",
        "      total_nb_tr_examples = 0\n",
        "      model.train()    # Put the model into training mode\n",
        "\n",
        "      # For each batch of training data...\n",
        "      for step, batch in enumerate(train_dataloader, 0):     \n",
        "          # 'batch' contains three pytorch tensors:[0]: input ids, [1]: attention masks, [2]: labels \n",
        "          input_ids = batch[0].to(device, dtype = torch.long)\n",
        "          input_mask = batch[1].to(device, dtype = torch.long)\n",
        "          labels = batch[2].to(device, dtype = torch.long)\n",
        "\n",
        "          model.zero_grad()       #clear any previously calculated gradients \n",
        "\n",
        "          outputs = model(input_ids, token_type_ids=None, attention_mask=input_mask)\n",
        "          loss_function = torch.nn.CrossEntropyLoss()\n",
        "          loss = loss_function(outputs[0], labels) #`loss` is a Tensor containing a single value\n",
        "          tr_loss += loss.item() #.item()` function just returns the Python value from the tensor\n",
        "          total_tr_loss += loss.item()\n",
        "          big_val, big_idx = torch.max(outputs[0], dim=1)\n",
        "          n_correct += calcuate_accu(big_idx, labels)  \n",
        "          total_n_correct += calcuate_accu(big_idx, labels)                  \n",
        "          nb_tr_steps += 1\n",
        "          nb_tr_examples+=labels.size(0)\n",
        "          total_nb_tr_examples+=labels.size(0)\n",
        "\n",
        "          if step % 20==19:\n",
        "              loss_step = tr_loss/nb_tr_steps\n",
        "              accu_step = n_correct/nb_tr_examples # #correct examples/all examples \n",
        "              print(f\"Training Loss per 20 steps(batches): {loss_step}\")\n",
        "              print(f\"Training Accuracy per 20 steps(batches): {accu_step}\")\n",
        "              elapsed = format_time(time.time() - t0)    # Calculate elapsed time in minutes.   \n",
        "              # Report progress.\n",
        "              print('Batch {} of {}.  Elapsed: {:}.'.format(step+1, len(train_dataloader), elapsed))\n",
        "              #writer.add_scalar('training loss', loss_step, (epoch +1)*len(trainloader) )\n",
        "              tr_loss = 0;n_correct = 0;nb_tr_steps = 0;nb_tr_examples = 0\n",
        "                \n",
        "          loss.backward() # Perform a backward pass to calculate the gradients.\n",
        "          torch.nn.utils.clip_grad_norm_(model.parameters(), 1.0) # Clip the norm of the gradients to 1.0. This is to help prevent the \"exploding gradients\" problem.\n",
        "          optimizer.step()\n",
        "          scheduler.step() # Update the learning rate.\n",
        "\n",
        "    # Calculate the average loss over all of the batches.\n",
        "      train_loss_per_epoch = total_tr_loss / len(train_dataloader)            \n",
        "      train_accuracy_per_epoch=total_n_correct/total_nb_tr_examples\n",
        "      # Measure how long this epoch took.\n",
        "      training_time = format_time(time.time() - t0)\n",
        "\n",
        "      print(\"\")\n",
        "      print(\"training loss per epoch: {0:.2f}\".format(train_loss_per_epoch))\n",
        "      print(\"training accuracy per epoch: {0:.2f}\".format(train_accuracy_per_epoch))\n",
        "      print(\"Training 1 epcoh took: {:}\".format(training_time))"
      ],
      "metadata": {
        "id": "Ciw6bGnrawoB"
      },
      "execution_count": 22,
      "outputs": []
    },
    {
      "cell_type": "code",
      "source": [
        "train(epochs = EPOCHS)"
      ],
      "metadata": {
        "colab": {
          "base_uri": "https://localhost:8080/",
          "height": 0
        },
        "id": "nUpehC2kaz6_",
        "outputId": "b0176cba-9907-4de6-8033-64215feb7a54"
      },
      "execution_count": 23,
      "outputs": [
        {
          "output_type": "stream",
          "name": "stdout",
          "text": [
            "======== Epoch 1 / 4 ========\n",
            "Training...\n",
            "Training Loss per 20 steps(batches): 3.2169954657554625\n",
            "Training Accuracy per 20 steps(batches): 0.0515625\n",
            "Batch 20 of 146.  Elapsed: 0:00:06.\n",
            "Training Loss per 20 steps(batches): 3.127326774597168\n",
            "Training Accuracy per 20 steps(batches): 0.078125\n",
            "Batch 40 of 146.  Elapsed: 0:00:10.\n",
            "Training Loss per 20 steps(batches): 2.9881242632865908\n",
            "Training Accuracy per 20 steps(batches): 0.153125\n",
            "Batch 60 of 146.  Elapsed: 0:00:15.\n",
            "Training Loss per 20 steps(batches): 2.815005660057068\n",
            "Training Accuracy per 20 steps(batches): 0.253125\n",
            "Batch 80 of 146.  Elapsed: 0:00:19.\n",
            "Training Loss per 20 steps(batches): 2.5481822967529295\n",
            "Training Accuracy per 20 steps(batches): 0.4703125\n",
            "Batch 100 of 146.  Elapsed: 0:00:23.\n",
            "Training Loss per 20 steps(batches): 2.2758207082748414\n",
            "Training Accuracy per 20 steps(batches): 0.621875\n",
            "Batch 120 of 146.  Elapsed: 0:00:27.\n",
            "Training Loss per 20 steps(batches): 1.9933461606502534\n",
            "Training Accuracy per 20 steps(batches): 0.7125\n",
            "Batch 140 of 146.  Elapsed: 0:00:32.\n",
            "\n",
            "training loss per epoch: 2.67\n",
            "training accuracy per epoch: 0.35\n",
            "Training 1 epcoh took: 0:00:33\n",
            "======== Epoch 2 / 4 ========\n",
            "Training...\n",
            "Training Loss per 20 steps(batches): 1.7075050381513743\n",
            "Training Accuracy per 20 steps(batches): 0.8211678832116789\n",
            "Batch 20 of 146.  Elapsed: 0:00:04.\n",
            "Training Loss per 20 steps(batches): 1.444780832529068\n",
            "Training Accuracy per 20 steps(batches): 0.903125\n",
            "Batch 40 of 146.  Elapsed: 0:00:08.\n",
            "Training Loss per 20 steps(batches): 1.2841011941432954\n",
            "Training Accuracy per 20 steps(batches): 0.8984375\n",
            "Batch 60 of 146.  Elapsed: 0:00:13.\n",
            "Training Loss per 20 steps(batches): 1.1108523964881898\n",
            "Training Accuracy per 20 steps(batches): 0.928125\n",
            "Batch 80 of 146.  Elapsed: 0:00:17.\n",
            "Training Loss per 20 steps(batches): 0.9970679014921189\n",
            "Training Accuracy per 20 steps(batches): 0.915625\n",
            "Batch 100 of 146.  Elapsed: 0:00:21.\n",
            "Training Loss per 20 steps(batches): 0.863336318731308\n",
            "Training Accuracy per 20 steps(batches): 0.9265625\n",
            "Batch 120 of 146.  Elapsed: 0:00:26.\n",
            "Training Loss per 20 steps(batches): 0.7405467927455902\n",
            "Training Accuracy per 20 steps(batches): 0.9515625\n",
            "Batch 140 of 146.  Elapsed: 0:00:30.\n",
            "\n",
            "training loss per epoch: 1.14\n",
            "training accuracy per epoch: 0.91\n",
            "Training 1 epcoh took: 0:00:31\n",
            "======== Epoch 3 / 4 ========\n",
            "Training...\n",
            "Training Loss per 20 steps(batches): 0.6430371357844427\n",
            "Training Accuracy per 20 steps(batches): 0.9586374695863747\n",
            "Batch 20 of 146.  Elapsed: 0:00:04.\n",
            "Training Loss per 20 steps(batches): 0.5512344896793365\n",
            "Training Accuracy per 20 steps(batches): 0.9734375\n",
            "Batch 40 of 146.  Elapsed: 0:00:09.\n",
            "Training Loss per 20 steps(batches): 0.49312221854925153\n",
            "Training Accuracy per 20 steps(batches): 0.9796875\n",
            "Batch 60 of 146.  Elapsed: 0:00:13.\n",
            "Training Loss per 20 steps(batches): 0.46014341413974763\n",
            "Training Accuracy per 20 steps(batches): 0.9828125\n",
            "Batch 80 of 146.  Elapsed: 0:00:17.\n",
            "Training Loss per 20 steps(batches): 0.38877413868904115\n",
            "Training Accuracy per 20 steps(batches): 0.9875\n",
            "Batch 100 of 146.  Elapsed: 0:00:22.\n",
            "Training Loss per 20 steps(batches): 0.3538710564374924\n",
            "Training Accuracy per 20 steps(batches): 0.984375\n",
            "Batch 120 of 146.  Elapsed: 0:00:26.\n",
            "Training Loss per 20 steps(batches): 0.3349503383040428\n",
            "Training Accuracy per 20 steps(batches): 0.9921875\n",
            "Batch 140 of 146.  Elapsed: 0:00:30.\n",
            "\n",
            "training loss per epoch: 0.45\n",
            "training accuracy per epoch: 0.98\n",
            "Training 1 epcoh took: 0:00:32\n",
            "======== Epoch 4 / 4 ========\n",
            "Training...\n",
            "Training Loss per 20 steps(batches): 0.3103522383249723\n",
            "Training Accuracy per 20 steps(batches): 0.9927007299270073\n",
            "Batch 20 of 146.  Elapsed: 0:00:04.\n",
            "Training Loss per 20 steps(batches): 0.274543996155262\n",
            "Training Accuracy per 20 steps(batches): 0.99375\n",
            "Batch 40 of 146.  Elapsed: 0:00:09.\n",
            "Training Loss per 20 steps(batches): 0.2482662871479988\n",
            "Training Accuracy per 20 steps(batches): 0.996875\n",
            "Batch 60 of 146.  Elapsed: 0:00:13.\n",
            "Training Loss per 20 steps(batches): 0.23863801509141921\n",
            "Training Accuracy per 20 steps(batches): 0.9921875\n",
            "Batch 80 of 146.  Elapsed: 0:00:18.\n",
            "Training Loss per 20 steps(batches): 0.24163946211338044\n",
            "Training Accuracy per 20 steps(batches): 0.990625\n",
            "Batch 100 of 146.  Elapsed: 0:00:22.\n",
            "Training Loss per 20 steps(batches): 0.2324072815477848\n",
            "Training Accuracy per 20 steps(batches): 0.996875\n",
            "Batch 120 of 146.  Elapsed: 0:00:26.\n",
            "Training Loss per 20 steps(batches): 0.22953578904271127\n",
            "Training Accuracy per 20 steps(batches): 0.9984375\n",
            "Batch 140 of 146.  Elapsed: 0:00:31.\n",
            "\n",
            "training loss per epoch: 0.25\n",
            "training accuracy per epoch: 0.99\n",
            "Training 1 epcoh took: 0:00:32\n"
          ]
        }
      ]
    },
    {
      "cell_type": "code",
      "source": [
        "# test the model on the validation set\n",
        "def valid(model, validation_loader):\n",
        "  model.eval()\n",
        "  val_loss = 0\n",
        "  nb_val_examples = 0\n",
        "  n_correct = 0\n",
        "  with torch.no_grad():\n",
        "    for _, data in enumerate(validation_loader, 0): \n",
        "      ids = data[0].to(device, dtype = torch.long)\n",
        "      mask = data[1].to(device, dtype = torch.long)\n",
        "      targets = data[2].to(device, dtype = torch.long)\n",
        "      outputs = model(ids, mask)\n",
        "      loss_function = torch.nn.CrossEntropyLoss()\n",
        "      loss = loss_function(outputs[0], targets)\n",
        "      val_loss += loss.item()\n",
        "      big_val, big_idx = torch.max(outputs[0], dim=1)\n",
        "      n_correct += calcuate_accu(big_idx, targets)\n",
        "      nb_val_examples+=targets.size(0)\n",
        "\n",
        "  val_ave_loss = val_loss/len(validation_loader)\n",
        "  val_accu = (n_correct*100)/nb_val_examples\n",
        "  print(\"Loss on validation/test data: %0.2f\" % val_ave_loss)\n",
        "  print(\"Accuracy on validation/test data: %0.2f%%\" % val_accu)\n",
        "  \n",
        "  return"
      ],
      "metadata": {
        "id": "bixZDM4ca6LF"
      },
      "execution_count": 24,
      "outputs": []
    },
    {
      "cell_type": "code",
      "source": [
        "valid(model, validation_dataloader)"
      ],
      "metadata": {
        "colab": {
          "base_uri": "https://localhost:8080/",
          "height": 0
        },
        "id": "PtnkiSrka9w3",
        "outputId": "7a2d00be-10e4-4b70-9c68-6c10b700e738"
      },
      "execution_count": 25,
      "outputs": [
        {
          "output_type": "stream",
          "name": "stdout",
          "text": [
            "Loss on validation/test data: 0.18\n",
            "Accuracy on validation/test data: 99.40%\n"
          ]
        }
      ]
    },
    {
      "cell_type": "code",
      "source": [
        "valid(model, test_dataloader)"
      ],
      "metadata": {
        "colab": {
          "base_uri": "https://localhost:8080/",
          "height": 0
        },
        "id": "M0Eb22-ebAQM",
        "outputId": "93a547a0-ca05-46e6-f704-1f500a020b48"
      },
      "execution_count": 26,
      "outputs": [
        {
          "output_type": "stream",
          "name": "stdout",
          "text": [
            "Loss on validation/test data: 0.18\n",
            "Accuracy on validation/test data: 99.40%\n"
          ]
        }
      ]
    },
    {
      "cell_type": "code",
      "source": [
        "import os\n",
        "\n",
        "# Saving best-practices: if you use defaults names for the model, you can reload it using from_pretrained()\n",
        "\n",
        "output_dir = './Documents/intent_detection_healthcare_bert/saved_bert_model_and_tokenizer/'\n",
        "\n",
        "# Create output directory if needed\n",
        "if not os.path.exists(output_dir):\n",
        "  os.makedirs(output_dir)\n",
        "\n",
        "print(\"Saving model to %s\" % output_dir)\n",
        "\n",
        "# Save a trained model, configuration and tokenizer using `save_pretrained()`.\n",
        "# They can then be reloaded using `from_pretrained()`\n",
        "model_to_save = model.module if hasattr(model, 'module') else model  # Take care of distributed/parallel training\n",
        "model_to_save.save_pretrained(output_dir)\n",
        "tokenizer.save_pretrained(output_dir)"
      ],
      "metadata": {
        "colab": {
          "base_uri": "https://localhost:8080/",
          "height": 0
        },
        "id": "hcXIGyCLbEe2",
        "outputId": "c1cb3516-55b2-457d-fd8d-e9014a007d3c"
      },
      "execution_count": 27,
      "outputs": [
        {
          "output_type": "stream",
          "name": "stdout",
          "text": [
            "Saving model to ./Documents/intent_detection_healthcare_bert/saved_bert_model_and_tokenizer/\n"
          ]
        },
        {
          "output_type": "execute_result",
          "data": {
            "text/plain": [
              "('./Documents/intent_detection_healthcare_bert/saved_bert_model_and_tokenizer/tokenizer_config.json',\n",
              " './Documents/intent_detection_healthcare_bert/saved_bert_model_and_tokenizer/special_tokens_map.json',\n",
              " './Documents/intent_detection_healthcare_bert/saved_bert_model_and_tokenizer/vocab.txt',\n",
              " './Documents/intent_detection_healthcare_bert/saved_bert_model_and_tokenizer/added_tokens.json')"
            ]
          },
          "metadata": {},
          "execution_count": 27
        }
      ]
    },
    {
      "cell_type": "code",
      "source": [
        "df_label = pd.DataFrame(tuple(zip(range(25),LE.classes_)), columns=['id','intent'])\n",
        "df_label.to_pickle('./Documents/intent_detection_healthcare_bert/saved_bert_model_and_tokenizer/df_label.pkl')"
      ],
      "metadata": {
        "id": "YMA8B6dCbHY_"
      },
      "execution_count": 28,
      "outputs": []
    },
    {
      "cell_type": "code",
      "source": [
        "# Copy the model files to a directory in Google Drive.\n",
        "!cp -r ./Documents/intent_detection_healthcare_bert/saved_bert_model_and_tokenizer/ \"gdrive/My Drive/bert/\""
      ],
      "metadata": {
        "id": "Pm6e2BjnbKzp"
      },
      "execution_count": 29,
      "outputs": []
    },
    {
      "cell_type": "code",
      "source": [
        "#### load the model and build the detector for deployment\n",
        "!pip install transformers\n",
        "import pandas as pd\n",
        "from transformers import BertTokenizer, BertForSequenceClassification\n",
        "\n",
        "input_dir = 'gdrive/My Drive/bert/saved_bert_model_and_tokenizer/'\n",
        "\n",
        "loaded_model = BertForSequenceClassification.from_pretrained(input_dir)\n",
        "loaded_model.eval()\n",
        "loaded_tokenizer = BertTokenizer.from_pretrained(input_dir)\n",
        "loaded_df_label = pd.read_pickle('gdrive/My Drive/bert/saved_bert_model_and_tokenizer/df_label.pkl')"
      ],
      "metadata": {
        "colab": {
          "base_uri": "https://localhost:8080/",
          "height": 0
        },
        "id": "VEAWM7mcbPwM",
        "outputId": "e80afa87-6dde-4e06-ec2e-a4076f09a138"
      },
      "execution_count": 30,
      "outputs": [
        {
          "output_type": "stream",
          "name": "stdout",
          "text": [
            "Looking in indexes: https://pypi.org/simple, https://us-python.pkg.dev/colab-wheels/public/simple/\n",
            "Requirement already satisfied: transformers in /usr/local/lib/python3.8/dist-packages (4.25.1)\n",
            "Requirement already satisfied: filelock in /usr/local/lib/python3.8/dist-packages (from transformers) (3.8.0)\n",
            "Requirement already satisfied: tqdm>=4.27 in /usr/local/lib/python3.8/dist-packages (from transformers) (4.64.1)\n",
            "Requirement already satisfied: pyyaml>=5.1 in /usr/local/lib/python3.8/dist-packages (from transformers) (6.0)\n",
            "Requirement already satisfied: tokenizers!=0.11.3,<0.14,>=0.11.1 in /usr/local/lib/python3.8/dist-packages (from transformers) (0.13.2)\n",
            "Requirement already satisfied: regex!=2019.12.17 in /usr/local/lib/python3.8/dist-packages (from transformers) (2022.6.2)\n",
            "Requirement already satisfied: requests in /usr/local/lib/python3.8/dist-packages (from transformers) (2.23.0)\n",
            "Requirement already satisfied: packaging>=20.0 in /usr/local/lib/python3.8/dist-packages (from transformers) (21.3)\n",
            "Requirement already satisfied: numpy>=1.17 in /usr/local/lib/python3.8/dist-packages (from transformers) (1.21.6)\n",
            "Requirement already satisfied: huggingface-hub<1.0,>=0.10.0 in /usr/local/lib/python3.8/dist-packages (from transformers) (0.11.1)\n",
            "Requirement already satisfied: typing-extensions>=3.7.4.3 in /usr/local/lib/python3.8/dist-packages (from huggingface-hub<1.0,>=0.10.0->transformers) (4.4.0)\n",
            "Requirement already satisfied: pyparsing!=3.0.5,>=2.0.2 in /usr/local/lib/python3.8/dist-packages (from packaging>=20.0->transformers) (3.0.9)\n",
            "Requirement already satisfied: idna<3,>=2.5 in /usr/local/lib/python3.8/dist-packages (from requests->transformers) (2.10)\n",
            "Requirement already satisfied: certifi>=2017.4.17 in /usr/local/lib/python3.8/dist-packages (from requests->transformers) (2022.9.24)\n",
            "Requirement already satisfied: urllib3!=1.25.0,!=1.25.1,<1.26,>=1.21.1 in /usr/local/lib/python3.8/dist-packages (from requests->transformers) (1.24.3)\n",
            "Requirement already satisfied: chardet<4,>=3.0.2 in /usr/local/lib/python3.8/dist-packages (from requests->transformers) (3.0.4)\n"
          ]
        }
      ]
    },
    {
      "cell_type": "code",
      "source": [
        "# test the model on an unseen example\n",
        "\n",
        "def medical_symptom_detector(intent):\n",
        "\n",
        "  pt_batch = loaded_tokenizer(\n",
        "  intent,\n",
        "  padding=True,\n",
        "  truncation=True,\n",
        "  return_tensors=\"pt\")\n",
        "\n",
        "  pt_outputs = loaded_model(**pt_batch)\n",
        "  __, id = torch.max(pt_outputs[0], dim=1)\n",
        "  prediction = loaded_df_label.iloc[[id.item()]]['intent'].item()\n",
        "  print('You may have a medical condition: %s.'%(prediction))\n",
        "  return "
      ],
      "metadata": {
        "id": "7v841RmIbRbc"
      },
      "execution_count": 31,
      "outputs": []
    },
    {
      "cell_type": "code",
      "source": [
        "input = 'My dog is inactive and does not eat. He is also breathing bad.'\n",
        "medical_symptom_detector(input)"
      ],
      "metadata": {
        "colab": {
          "base_uri": "https://localhost:8080/",
          "height": 0
        },
        "id": "6Gqvg-WlbSzp",
        "outputId": "1c78f9b2-9f66-4512-a3a1-3128ff2ec470"
      },
      "execution_count": 32,
      "outputs": [
        {
          "output_type": "stream",
          "name": "stdout",
          "text": [
            "You may have a medical condition: Hard to breath.\n"
          ]
        }
      ]
    },
    {
      "cell_type": "code",
      "source": [],
      "metadata": {
        "id": "4aCipGmpcsDY"
      },
      "execution_count": null,
      "outputs": []
    }
  ]
}